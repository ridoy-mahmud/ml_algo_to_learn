{
 "cells": [
  {
   "cell_type": "code",
   "id": "initial_id",
   "metadata": {
    "collapsed": true,
    "ExecuteTime": {
     "end_time": "2025-08-19T16:06:10.158238Z",
     "start_time": "2025-08-19T16:06:09.399218Z"
    }
   },
   "source": [
    "# Weather Forecast and Rainfall Prediction\n",
    "# Jupyter Notebook\n",
    "\n",
    "import pandas as pd\n",
    "import numpy as np\n",
    "from sklearn.model_selection import train_test_split\n",
    "from sklearn.linear_model import LogisticRegression\n",
    "from sklearn.neighbors import KNeighborsClassifier\n",
    "from sklearn.cluster import KMeans\n",
    "from sklearn.metrics import accuracy_score, classification_report, confusion_matrix\n",
    "import matplotlib.pyplot as plt\n",
    "import seaborn as sns\n",
    "\n",
    "data = pd.read_csv('weatherAUS.csv')\n",
    "data['Date'] = pd.to_datetime(data['Date'])\n",
    "data = data.sort_values('Date')\n",
    "\n",
    "# Step 2: Data Cleaning\n",
    "data.fillna(method='ffill', inplace=True)\n",
    "data.drop(columns=['Location','RISK_MM'], inplace=True)\n",
    "\n",
    "# Step 3: Feature Engineering\n",
    "for i in range(1,4):\n",
    "    data[f'Temp_lag{i}'] = data['MinTemp'].shift(i)\n",
    "    data[f'Humidity_lag{i}'] = data['Humidity9am'].shift(i)\n",
    "    data[f'Rain_lag{i}'] = data['Rainfall'].shift(i)\n",
    "\n",
    "data.dropna(inplace=True)\n",
    "\n",
    "# Step 4: Target Variable\n",
    "data['RainTomorrow'] = data['RainTomorrow'].map({'Yes':1, 'No':0})\n",
    "\n",
    "# Step 5: Features & Target\n",
    "features = ['MinTemp', 'MaxTemp', 'Rainfall', 'Humidity9am', 'Humidity3pm', 'Pressure9am', 'Pressure3pm',\n",
    "            'Temp_lag1','Temp_lag2','Temp_lag3','Humidity_lag1','Humidity_lag2','Humidity_lag3','Rain_lag1','Rain_lag2','Rain_lag3']\n",
    "X = data[features]\n",
    "y = data['RainTomorrow']\n",
    "\n",
    "# Step 6: Train-Test Split\n",
    "X_train, X_test, y_train, y_test = train_test_split(X, y, test_size=0.2, random_state=42, shuffle=False)\n",
    "\n",
    "# Step 7: Model Training\n",
    "# Logistic Regression\n",
    "lr_model = LogisticRegression(max_iter=1000)\n",
    "lr_model.fit(X_train, y_train)\n",
    "\n",
    "# KNN Classifier\n",
    "knn_model = KNeighborsClassifier(n_neighbors=5)\n",
    "knn_model.fit(X_train, y_train)\n",
    "\n",
    "# K-Means Clustering\n",
    "kmeans = KMeans(n_clusters=3, random_state=42)\n",
    "data['Cluster'] = kmeans.fit_predict(X)\n",
    "\n",
    "# Step 8: Model Evaluation\n",
    "\n",
    "def evaluate_model(y_true, y_pred, model_name):\n",
    "    print(f'--- {model_name} ---')\n",
    "    print('Accuracy:', accuracy_score(y_true, y_pred))\n",
    "    print('Classification Report:\\n', classification_report(y_true, y_pred))\n",
    "    print('Confusion Matrix:\\n', confusion_matrix(y_true, y_pred))\n",
    "\n",
    "# Logistic Regression Evaluation\n",
    "y_pred_lr = lr_model.predict(X_test)\n",
    "evaluate_model(y_test, y_pred_lr, 'Logistic Regression')\n",
    "\n",
    "# KNN Evaluation\n",
    "y_pred_knn = knn_model.predict(X_test)\n",
    "evaluate_model(y_test, y_pred_knn, 'KNN')\n",
    "\n",
    "# Step 9: 7-Day Forecast\n",
    "last_7_days = X_test.tail(7)\n",
    "predictions = lr_model.predict(last_7_days)\n",
    "print('7-Day Rainfall Forecast (1=Rain, 0=No Rain):', predictions)\n",
    "\n",
    "# Step 10: Visualizations\n",
    "# Logistic Regression Confusion Matrix\n",
    "cm_lr = confusion_matrix(y_test, y_pred_lr)\n",
    "sns.heatmap(cm_lr, annot=True, fmt='d', cmap='Blues')\n",
    "plt.title('Logistic Regression Confusion Matrix')\n",
    "plt.show()\n",
    "\n",
    "# KNN Confusion Matrix\n",
    "cm_knn = confusion_matrix(y_test, y_pred_knn)\n",
    "sns.heatmap(cm_knn, annot=True, fmt='d', cmap='Blues')\n",
    "plt.title('KNN Confusion Matrix')\n",
    "plt.show()\n"
   ],
   "outputs": [
    {
     "name": "stderr",
     "output_type": "stream",
     "text": [
      "/tmp/ipykernel_268932/2246839539.py:19: FutureWarning: DataFrame.fillna with 'method' is deprecated and will raise in a future version. Use obj.ffill() or obj.bfill() instead.\n",
      "  data.fillna(method='ffill', inplace=True)\n"
     ]
    },
    {
     "ename": "KeyError",
     "evalue": "\"['RISK_MM'] not found in axis\"",
     "output_type": "error",
     "traceback": [
      "\u001B[31m---------------------------------------------------------------------------\u001B[39m",
      "\u001B[31mKeyError\u001B[39m                                  Traceback (most recent call last)",
      "\u001B[36mCell\u001B[39m\u001B[36m \u001B[39m\u001B[32mIn[3]\u001B[39m\u001B[32m, line 20\u001B[39m\n\u001B[32m     18\u001B[39m \u001B[38;5;66;03m# Step 2: Data Cleaning\u001B[39;00m\n\u001B[32m     19\u001B[39m data.fillna(method=\u001B[33m'\u001B[39m\u001B[33mffill\u001B[39m\u001B[33m'\u001B[39m, inplace=\u001B[38;5;28;01mTrue\u001B[39;00m)\n\u001B[32m---> \u001B[39m\u001B[32m20\u001B[39m \u001B[43mdata\u001B[49m\u001B[43m.\u001B[49m\u001B[43mdrop\u001B[49m\u001B[43m(\u001B[49m\u001B[43mcolumns\u001B[49m\u001B[43m=\u001B[49m\u001B[43m[\u001B[49m\u001B[33;43m'\u001B[39;49m\u001B[33;43mLocation\u001B[39;49m\u001B[33;43m'\u001B[39;49m\u001B[43m,\u001B[49m\u001B[33;43m'\u001B[39;49m\u001B[33;43mRISK_MM\u001B[39;49m\u001B[33;43m'\u001B[39;49m\u001B[43m]\u001B[49m\u001B[43m,\u001B[49m\u001B[43m \u001B[49m\u001B[43minplace\u001B[49m\u001B[43m=\u001B[49m\u001B[38;5;28;43;01mTrue\u001B[39;49;00m\u001B[43m)\u001B[49m\n\u001B[32m     22\u001B[39m \u001B[38;5;66;03m# Step 3: Feature Engineering\u001B[39;00m\n\u001B[32m     23\u001B[39m \u001B[38;5;28;01mfor\u001B[39;00m i \u001B[38;5;129;01min\u001B[39;00m \u001B[38;5;28mrange\u001B[39m(\u001B[32m1\u001B[39m,\u001B[32m4\u001B[39m):\n",
      "\u001B[36mFile \u001B[39m\u001B[32m~/Documents/ML/ML Lab/ML LAB Exam/myenv/lib/python3.12/site-packages/pandas/core/frame.py:5588\u001B[39m, in \u001B[36mDataFrame.drop\u001B[39m\u001B[34m(self, labels, axis, index, columns, level, inplace, errors)\u001B[39m\n\u001B[32m   5440\u001B[39m \u001B[38;5;28;01mdef\u001B[39;00m\u001B[38;5;250m \u001B[39m\u001B[34mdrop\u001B[39m(\n\u001B[32m   5441\u001B[39m     \u001B[38;5;28mself\u001B[39m,\n\u001B[32m   5442\u001B[39m     labels: IndexLabel | \u001B[38;5;28;01mNone\u001B[39;00m = \u001B[38;5;28;01mNone\u001B[39;00m,\n\u001B[32m   (...)\u001B[39m\u001B[32m   5449\u001B[39m     errors: IgnoreRaise = \u001B[33m\"\u001B[39m\u001B[33mraise\u001B[39m\u001B[33m\"\u001B[39m,\n\u001B[32m   5450\u001B[39m ) -> DataFrame | \u001B[38;5;28;01mNone\u001B[39;00m:\n\u001B[32m   5451\u001B[39m \u001B[38;5;250m    \u001B[39m\u001B[33;03m\"\"\"\u001B[39;00m\n\u001B[32m   5452\u001B[39m \u001B[33;03m    Drop specified labels from rows or columns.\u001B[39;00m\n\u001B[32m   5453\u001B[39m \n\u001B[32m   (...)\u001B[39m\u001B[32m   5586\u001B[39m \u001B[33;03m            weight  1.0     0.8\u001B[39;00m\n\u001B[32m   5587\u001B[39m \u001B[33;03m    \"\"\"\u001B[39;00m\n\u001B[32m-> \u001B[39m\u001B[32m5588\u001B[39m     \u001B[38;5;28;01mreturn\u001B[39;00m \u001B[38;5;28;43msuper\u001B[39;49m\u001B[43m(\u001B[49m\u001B[43m)\u001B[49m\u001B[43m.\u001B[49m\u001B[43mdrop\u001B[49m\u001B[43m(\u001B[49m\n\u001B[32m   5589\u001B[39m \u001B[43m        \u001B[49m\u001B[43mlabels\u001B[49m\u001B[43m=\u001B[49m\u001B[43mlabels\u001B[49m\u001B[43m,\u001B[49m\n\u001B[32m   5590\u001B[39m \u001B[43m        \u001B[49m\u001B[43maxis\u001B[49m\u001B[43m=\u001B[49m\u001B[43maxis\u001B[49m\u001B[43m,\u001B[49m\n\u001B[32m   5591\u001B[39m \u001B[43m        \u001B[49m\u001B[43mindex\u001B[49m\u001B[43m=\u001B[49m\u001B[43mindex\u001B[49m\u001B[43m,\u001B[49m\n\u001B[32m   5592\u001B[39m \u001B[43m        \u001B[49m\u001B[43mcolumns\u001B[49m\u001B[43m=\u001B[49m\u001B[43mcolumns\u001B[49m\u001B[43m,\u001B[49m\n\u001B[32m   5593\u001B[39m \u001B[43m        \u001B[49m\u001B[43mlevel\u001B[49m\u001B[43m=\u001B[49m\u001B[43mlevel\u001B[49m\u001B[43m,\u001B[49m\n\u001B[32m   5594\u001B[39m \u001B[43m        \u001B[49m\u001B[43minplace\u001B[49m\u001B[43m=\u001B[49m\u001B[43minplace\u001B[49m\u001B[43m,\u001B[49m\n\u001B[32m   5595\u001B[39m \u001B[43m        \u001B[49m\u001B[43merrors\u001B[49m\u001B[43m=\u001B[49m\u001B[43merrors\u001B[49m\u001B[43m,\u001B[49m\n\u001B[32m   5596\u001B[39m \u001B[43m    \u001B[49m\u001B[43m)\u001B[49m\n",
      "\u001B[36mFile \u001B[39m\u001B[32m~/Documents/ML/ML Lab/ML LAB Exam/myenv/lib/python3.12/site-packages/pandas/core/generic.py:4807\u001B[39m, in \u001B[36mNDFrame.drop\u001B[39m\u001B[34m(self, labels, axis, index, columns, level, inplace, errors)\u001B[39m\n\u001B[32m   4805\u001B[39m \u001B[38;5;28;01mfor\u001B[39;00m axis, labels \u001B[38;5;129;01min\u001B[39;00m axes.items():\n\u001B[32m   4806\u001B[39m     \u001B[38;5;28;01mif\u001B[39;00m labels \u001B[38;5;129;01mis\u001B[39;00m \u001B[38;5;129;01mnot\u001B[39;00m \u001B[38;5;28;01mNone\u001B[39;00m:\n\u001B[32m-> \u001B[39m\u001B[32m4807\u001B[39m         obj = \u001B[43mobj\u001B[49m\u001B[43m.\u001B[49m\u001B[43m_drop_axis\u001B[49m\u001B[43m(\u001B[49m\u001B[43mlabels\u001B[49m\u001B[43m,\u001B[49m\u001B[43m \u001B[49m\u001B[43maxis\u001B[49m\u001B[43m,\u001B[49m\u001B[43m \u001B[49m\u001B[43mlevel\u001B[49m\u001B[43m=\u001B[49m\u001B[43mlevel\u001B[49m\u001B[43m,\u001B[49m\u001B[43m \u001B[49m\u001B[43merrors\u001B[49m\u001B[43m=\u001B[49m\u001B[43merrors\u001B[49m\u001B[43m)\u001B[49m\n\u001B[32m   4809\u001B[39m \u001B[38;5;28;01mif\u001B[39;00m inplace:\n\u001B[32m   4810\u001B[39m     \u001B[38;5;28mself\u001B[39m._update_inplace(obj)\n",
      "\u001B[36mFile \u001B[39m\u001B[32m~/Documents/ML/ML Lab/ML LAB Exam/myenv/lib/python3.12/site-packages/pandas/core/generic.py:4849\u001B[39m, in \u001B[36mNDFrame._drop_axis\u001B[39m\u001B[34m(self, labels, axis, level, errors, only_slice)\u001B[39m\n\u001B[32m   4847\u001B[39m         new_axis = axis.drop(labels, level=level, errors=errors)\n\u001B[32m   4848\u001B[39m     \u001B[38;5;28;01melse\u001B[39;00m:\n\u001B[32m-> \u001B[39m\u001B[32m4849\u001B[39m         new_axis = \u001B[43maxis\u001B[49m\u001B[43m.\u001B[49m\u001B[43mdrop\u001B[49m\u001B[43m(\u001B[49m\u001B[43mlabels\u001B[49m\u001B[43m,\u001B[49m\u001B[43m \u001B[49m\u001B[43merrors\u001B[49m\u001B[43m=\u001B[49m\u001B[43merrors\u001B[49m\u001B[43m)\u001B[49m\n\u001B[32m   4850\u001B[39m     indexer = axis.get_indexer(new_axis)\n\u001B[32m   4852\u001B[39m \u001B[38;5;66;03m# Case for non-unique axis\u001B[39;00m\n\u001B[32m   4853\u001B[39m \u001B[38;5;28;01melse\u001B[39;00m:\n",
      "\u001B[36mFile \u001B[39m\u001B[32m~/Documents/ML/ML Lab/ML LAB Exam/myenv/lib/python3.12/site-packages/pandas/core/indexes/base.py:7136\u001B[39m, in \u001B[36mIndex.drop\u001B[39m\u001B[34m(self, labels, errors)\u001B[39m\n\u001B[32m   7134\u001B[39m \u001B[38;5;28;01mif\u001B[39;00m mask.any():\n\u001B[32m   7135\u001B[39m     \u001B[38;5;28;01mif\u001B[39;00m errors != \u001B[33m\"\u001B[39m\u001B[33mignore\u001B[39m\u001B[33m\"\u001B[39m:\n\u001B[32m-> \u001B[39m\u001B[32m7136\u001B[39m         \u001B[38;5;28;01mraise\u001B[39;00m \u001B[38;5;167;01mKeyError\u001B[39;00m(\u001B[33mf\u001B[39m\u001B[33m\"\u001B[39m\u001B[38;5;132;01m{\u001B[39;00mlabels[mask].tolist()\u001B[38;5;132;01m}\u001B[39;00m\u001B[33m not found in axis\u001B[39m\u001B[33m\"\u001B[39m)\n\u001B[32m   7137\u001B[39m     indexer = indexer[~mask]\n\u001B[32m   7138\u001B[39m \u001B[38;5;28;01mreturn\u001B[39;00m \u001B[38;5;28mself\u001B[39m.delete(indexer)\n",
      "\u001B[31mKeyError\u001B[39m: \"['RISK_MM'] not found in axis\""
     ]
    }
   ],
   "execution_count": 3
  },
  {
   "metadata": {},
   "cell_type": "code",
   "outputs": [],
   "execution_count": null,
   "source": "",
   "id": "aa8c21d540440924"
  }
 ],
 "metadata": {
  "kernelspec": {
   "display_name": "Python 3",
   "language": "python",
   "name": "python3"
  },
  "language_info": {
   "codemirror_mode": {
    "name": "ipython",
    "version": 2
   },
   "file_extension": ".py",
   "mimetype": "text/x-python",
   "name": "python",
   "nbconvert_exporter": "python",
   "pygments_lexer": "ipython2",
   "version": "2.7.6"
  }
 },
 "nbformat": 4,
 "nbformat_minor": 5
}
