{
 "cells": [
  {
   "cell_type": "markdown",
   "id": "eac4865a0fb14f71",
   "metadata": {},
   "source": [
    "Import Library"
   ]
  },
  {
   "cell_type": "code",
   "id": "initial_id",
   "metadata": {
    "ExecuteTime": {
     "end_time": "2025-08-19T16:15:36.200305Z",
     "start_time": "2025-08-19T16:15:35.881789Z"
    }
   },
   "source": [
    "import pandas as pd\n",
    "import numpy as np\n",
    "import matplotlib.pyplot as plt\n",
    "from sklearn.model_selection import train_test_split\n",
    "from sklearn.datasets import load_iris\n",
    "from sklearn.neighbors import KNeighborsClassifier\n",
    "from sklearn.metrics import accuracy_score"
   ],
   "outputs": [],
   "execution_count": 1
  },
  {
   "cell_type": "markdown",
   "id": "338c59eafdc6dc40",
   "metadata": {},
   "source": [
    "Load Datasets"
   ]
  },
  {
   "cell_type": "code",
   "id": "eca6060c9a32ca1a",
   "metadata": {
    "ExecuteTime": {
     "end_time": "2025-08-19T16:15:36.235658Z",
     "start_time": "2025-08-19T16:15:36.222313Z"
    }
   },
   "source": [
    "iris = load_iris()\n",
    "x = iris.data\n",
    "y = iris.target\n",
    "\n",
    "print(x.shape)\n",
    "print(y.shape)\n",
    "x2 = x[:4]\n",
    "print(x2)\n"
   ],
   "outputs": [
    {
     "name": "stdout",
     "output_type": "stream",
     "text": [
      "(150, 4)\n",
      "(150,)\n",
      "[[5.1 3.5 1.4 0.2]\n",
      " [4.9 3.  1.4 0.2]\n",
      " [4.7 3.2 1.3 0.2]\n",
      " [4.6 3.1 1.5 0.2]]\n"
     ]
    }
   ],
   "execution_count": 2
  },
  {
   "cell_type": "markdown",
   "id": "2671a588",
   "metadata": {},
   "source": [
    "Splite Data into Train and Test"
   ]
  },
  {
   "cell_type": "code",
   "id": "00ff6c91",
   "metadata": {
    "ExecuteTime": {
     "end_time": "2025-08-19T16:15:37.860164Z",
     "start_time": "2025-08-19T16:15:37.850733Z"
    }
   },
   "source": [
    "x_train, x_test, y_train, y_test = train_test_split(x,y,test_size=0.3,random_state=42, stratify=y)\n",
    "print(\"Training Samples:\",x_train.shape[0])\n",
    "print(\"Testing Samples:\",y_train.shape[0])"
   ],
   "outputs": [
    {
     "name": "stdout",
     "output_type": "stream",
     "text": [
      "Training Samples: 105\n",
      "Testing Samples: 105\n"
     ]
    }
   ],
   "execution_count": 3
  },
  {
   "cell_type": "markdown",
   "id": "2ed495f2",
   "metadata": {},
   "source": [
    "Create and Train KNN"
   ]
  },
  {
   "cell_type": "code",
   "execution_count": 1,
   "id": "4dc7fd62",
   "metadata": {
    "ExecuteTime": {
     "end_time": "2025-08-19T02:59:06.837184Z",
     "start_time": "2025-08-19T02:59:06.575143Z"
    }
   },
   "outputs": [
    {
     "ename": "NameError",
     "evalue": "name 'KNeighborsClassifier' is not defined",
     "output_type": "error",
     "traceback": [
      "\u001B[31m---------------------------------------------------------------------------\u001B[39m",
      "\u001B[31mNameError\u001B[39m                                 Traceback (most recent call last)",
      "\u001B[36mCell\u001B[39m\u001B[36m \u001B[39m\u001B[32mIn[1]\u001B[39m\u001B[32m, line 1\u001B[39m\n\u001B[32m----> \u001B[39m\u001B[32m1\u001B[39m knn = \u001B[43mKNeighborsClassifier\u001B[49m(n_neighbors=\u001B[32m5\u001B[39m)\n\u001B[32m      3\u001B[39m knn.fit(x_train,y_train)\n",
      "\u001B[31mNameError\u001B[39m: name 'KNeighborsClassifier' is not defined"
     ]
    }
   ],
   "source": [
    "knn = KNeighborsClassifier(n_neighbors=5)\n",
    "\n",
    "knn.fit(x_train,y_train)"
   ]
  },
  {
   "cell_type": "markdown",
   "id": "29162c95",
   "metadata": {},
   "source": [
    "Make Predictions"
   ]
  },
  {
   "cell_type": "code",
   "execution_count": 6,
   "id": "b0330f1e",
   "metadata": {
    "ExecuteTime": {
     "end_time": "2025-08-18T18:26:14.507301Z",
     "start_time": "2025-08-18T18:26:14.498445Z"
    }
   },
   "outputs": [
    {
     "name": "stdout",
     "output_type": "stream",
     "text": [
      "Predicted  [2 1 2 1 2 2 1 1 0 2 0 0 2 2 0 2 1 0 0 0 1 0 1 2 2 1 1 1 1 0 2 2 1 0 2 0 0\n",
      " 0 0 1 1 0 1 2 1]\n",
      "Actual Leb [2 1 2 1 2 2 1 1 0 2 0 0 2 2 0 2 1 0 0 0 1 0 1 2 2 1 1 1 1 0 2 2 1 0 2 0 0\n",
      " 0 0 1 1 0 2 2 1]\n"
     ]
    }
   ],
   "source": [
    "y_pred = knn.predict(x_test)\n",
    "\n",
    "print(\"Predicted \",y_pred)\n",
    "print(\"Actual Leb\",y_test)"
   ]
  },
  {
   "cell_type": "markdown",
   "id": "e9282195",
   "metadata": {},
   "source": [
    "Evalution the Model"
   ]
  },
  {
   "cell_type": "code",
   "execution_count": 7,
   "id": "4f6ec8c1",
   "metadata": {
    "ExecuteTime": {
     "end_time": "2025-08-18T18:26:16.835930Z",
     "start_time": "2025-08-18T18:26:16.830300Z"
    }
   },
   "outputs": [
    {
     "name": "stdout",
     "output_type": "stream",
     "text": [
      "The accuracy is -  0.9777777777777777\n"
     ]
    }
   ],
   "source": [
    "accuracy = accuracy_score(y_test,y_pred)\n",
    "print(\"The accuracy is - \",accuracy )"
   ]
  },
  {
   "cell_type": "code",
   "execution_count": 8,
   "id": "7d53aa03",
   "metadata": {
    "ExecuteTime": {
     "end_time": "2025-08-18T18:26:18.466040Z",
     "start_time": "2025-08-18T18:26:18.441963Z"
    }
   },
   "outputs": [
    {
     "name": "stdout",
     "output_type": "stream",
     "text": [
      "[[15  0  0]\n",
      " [ 0 15  0]\n",
      " [ 0  1 14]]\n",
      "              precision    recall  f1-score   support\n",
      "\n",
      "           0       1.00      1.00      1.00        15\n",
      "           1       0.94      1.00      0.97        15\n",
      "           2       1.00      0.93      0.97        15\n",
      "\n",
      "    accuracy                           0.98        45\n",
      "   macro avg       0.98      0.98      0.98        45\n",
      "weighted avg       0.98      0.98      0.98        45\n",
      "\n"
     ]
    }
   ],
   "source": [
    "from sklearn.metrics import confusion_matrix,classification_report\n",
    "\n",
    "cm = confusion_matrix(y_test,y_pred)\n",
    "print(cm)\n",
    "cr = classification_report(y_test,y_pred)\n",
    "print(cr)"
   ]
  },
  {
   "cell_type": "code",
   "execution_count": null,
   "id": "7d871c219b779373",
   "metadata": {},
   "outputs": [],
   "source": []
  }
 ],
 "metadata": {
  "kernelspec": {
   "display_name": "Python 3 (ipykernel)",
   "language": "python",
   "name": "python3"
  },
  "language_info": {
   "codemirror_mode": {
    "name": "ipython",
    "version": 3
   },
   "file_extension": ".py",
   "mimetype": "text/x-python",
   "name": "python",
   "nbconvert_exporter": "python",
   "pygments_lexer": "ipython3",
   "version": "3.12.3"
  }
 },
 "nbformat": 4,
 "nbformat_minor": 5
}
