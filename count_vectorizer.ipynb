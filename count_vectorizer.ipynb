{
 "cells": [
  {
   "cell_type": "code",
   "execution_count": 5,
   "id": "8d88a220",
   "metadata": {},
   "outputs": [
    {
     "name": "stdout",
     "output_type": "stream",
     "text": [
      "['The canal is open to shipping.', 'This is a ship shipping ship, shipping shipping ships.', 'The ship locked into the new canal.', 'Today is the Discount Day', 'Get more Discount']\n"
     ]
    }
   ],
   "source": [
    "datas = [\n",
    "\t'The canal is open to shipping.',\n",
    "\t'This is a ship shipping ship, shipping shipping ships.',\n",
    "\t'The ship locked into the new canal.',\n",
    "    'Today is the Discount Day',\n",
    "    'Get more Discount'\n",
    "]\n",
    "print(datas)"
   ]
  },
  {
   "cell_type": "code",
   "execution_count": 7,
   "id": "4da0e02f",
   "metadata": {},
   "outputs": [
    {
     "name": "stdout",
     "output_type": "stream",
     "text": [
      "['the canal is open to shipping.', 'this is a ship shipping ship, shipping shipping ships.', 'the ship locked into the new canal.', 'today is the discount day', 'get more discount']\n"
     ]
    }
   ],
   "source": [
    "to_lower_case = []\n",
    "for i in datas:\n",
    "    to_lower_case.append(i.lower())\n",
    "print(to_lower_case)"
   ]
  },
  {
   "cell_type": "code",
   "execution_count": null,
   "id": "39aa5aca",
   "metadata": {},
   "outputs": [
    {
     "name": "stdout",
     "output_type": "stream",
     "text": [
      "['the canal is open to shipping', 'this is a ship shipping ship shipping shipping ships', 'the ship locked into the new canal', 'today is the discount day', 'get more discount']\n"
     ]
    }
   ],
   "source": [
    "import string\n",
    "no_punc_data = []\n",
    "for i in to_lower_case:\n",
    "    no_punc_data.append(i.translate(str.maketrans('','',string.punctuation)))\n",
    "print(no_punc_data)"
   ]
  },
  {
   "cell_type": "code",
   "execution_count": 9,
   "id": "4203e2a3",
   "metadata": {},
   "outputs": [
    {
     "name": "stdout",
     "output_type": "stream",
     "text": [
      "[['the', 'canal', 'is', 'open', 'to', 'shipping'], ['this', 'is', 'a', 'ship', 'shipping', 'ship', 'shipping', 'shipping', 'ships'], ['the', 'ship', 'locked', 'into', 'the', 'new', 'canal'], ['today', 'is', 'the', 'discount', 'day'], ['get', 'more', 'discount']]\n"
     ]
    }
   ],
   "source": [
    "processed_document =[]\n",
    "for i in no_punc_data:\n",
    "    processed_document.append(i.split(\" \"))\n",
    "print(processed_document)"
   ]
  },
  {
   "cell_type": "code",
   "execution_count": 10,
   "id": "22a371b6",
   "metadata": {},
   "outputs": [
    {
     "data": {
      "text/plain": [
       "array(['canal', 'day', 'discount', 'get', 'into', 'is', 'locked', 'more',\n",
       "       'new', 'open', 'ship', 'shipping', 'ships', 'the', 'this', 'to',\n",
       "       'today'], dtype=object)"
      ]
     },
     "execution_count": 10,
     "metadata": {},
     "output_type": "execute_result"
    }
   ],
   "source": [
    "from sklearn.feature_extraction.text import CountVectorizer\n",
    "count_vector = CountVectorizer() # Set the variable\n",
    "count_vector.fit(datas) # Fit the function\n",
    "count_vector.get_feature_names_out() # Get the outputs"
   ]
  }
 ],
 "metadata": {
  "kernelspec": {
   "display_name": "myenv",
   "language": "python",
   "name": "python3"
  },
  "language_info": {
   "codemirror_mode": {
    "name": "ipython",
    "version": 3
   },
   "file_extension": ".py",
   "mimetype": "text/x-python",
   "name": "python",
   "nbconvert_exporter": "python",
   "pygments_lexer": "ipython3",
   "version": "3.12.3"
  }
 },
 "nbformat": 4,
 "nbformat_minor": 5
}
